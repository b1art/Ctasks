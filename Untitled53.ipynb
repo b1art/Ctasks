{
  "nbformat": 4,
  "nbformat_minor": 0,
  "metadata": {
    "colab": {
      "name": "Untitled53.ipynb",
      "provenance": []
    },
    "kernelspec": {
      "name": "python3",
      "display_name": "Python 3"
    },
    "language_info": {
      "name": "python"
    }
  },
  "cells": [
    {
      "cell_type": "markdown",
      "source": [
        "Установка"
      ],
      "metadata": {
        "id": "c5fMSB4Hi_gI"
      }
    },
    {
      "cell_type": "code",
      "execution_count": 1,
      "metadata": {
        "colab": {
          "base_uri": "https://localhost:8080/"
        },
        "id": "nN0_V1OpVV53",
        "outputId": "7fe96e29-3084-4f83-99d1-f37d1d10afdf"
      },
      "outputs": [
        {
          "output_type": "stream",
          "name": "stdout",
          "text": [
            "Looking in indexes: https://pypi.org/simple, https://us-python.pkg.dev/colab-wheels/public/simple/\n",
            "Requirement already satisfied: ipython-autotime in /usr/local/lib/python3.7/dist-packages (0.3.1)\n",
            "Requirement already satisfied: ipython in /usr/local/lib/python3.7/dist-packages (from ipython-autotime) (5.5.0)\n",
            "Requirement already satisfied: pickleshare in /usr/local/lib/python3.7/dist-packages (from ipython->ipython-autotime) (0.7.5)\n",
            "Requirement already satisfied: pexpect in /usr/local/lib/python3.7/dist-packages (from ipython->ipython-autotime) (4.8.0)\n",
            "Requirement already satisfied: prompt-toolkit<2.0.0,>=1.0.4 in /usr/local/lib/python3.7/dist-packages (from ipython->ipython-autotime) (1.0.18)\n",
            "Requirement already satisfied: pygments in /usr/local/lib/python3.7/dist-packages (from ipython->ipython-autotime) (2.6.1)\n",
            "Requirement already satisfied: traitlets>=4.2 in /usr/local/lib/python3.7/dist-packages (from ipython->ipython-autotime) (5.1.1)\n",
            "Requirement already satisfied: setuptools>=18.5 in /usr/local/lib/python3.7/dist-packages (from ipython->ipython-autotime) (57.4.0)\n",
            "Requirement already satisfied: simplegeneric>0.8 in /usr/local/lib/python3.7/dist-packages (from ipython->ipython-autotime) (0.8.1)\n",
            "Requirement already satisfied: decorator in /usr/local/lib/python3.7/dist-packages (from ipython->ipython-autotime) (4.4.2)\n",
            "Requirement already satisfied: wcwidth in /usr/local/lib/python3.7/dist-packages (from prompt-toolkit<2.0.0,>=1.0.4->ipython->ipython-autotime) (0.2.5)\n",
            "Requirement already satisfied: six>=1.9.0 in /usr/local/lib/python3.7/dist-packages (from prompt-toolkit<2.0.0,>=1.0.4->ipython->ipython-autotime) (1.15.0)\n",
            "Requirement already satisfied: ptyprocess>=0.5 in /usr/local/lib/python3.7/dist-packages (from pexpect->ipython->ipython-autotime) (0.7.0)\n",
            "time: 703 µs (started: 2022-06-26 10:23:12 +00:00)\n"
          ]
        }
      ],
      "source": [
        "!pip install ipython-autotime\n",
        "%reload_ext cython\n",
        "%reload_ext autotime\n",
        "\n",
        "from random import random\n",
        "import numpy as np"
      ]
    },
    {
      "cell_type": "markdown",
      "source": [
        "**Числа фибоначчи**"
      ],
      "metadata": {
        "id": "YmqIBWpUd8Iy"
      }
    },
    {
      "cell_type": "code",
      "source": [
        "def py_fib(n: int):\n",
        "  if n < 2:\n",
        "    return n\n",
        "  f1 = 0;\n",
        "  f2 = 1;\n",
        "  for i in range(n-1):\n",
        "    ans = f1 + f2\n",
        "    f1 = f2\n",
        "    f2 = ans\n",
        "  return ans"
      ],
      "metadata": {
        "colab": {
          "base_uri": "https://localhost:8080/"
        },
        "id": "DYyKp8LGd-ba",
        "outputId": "2e5576e1-c326-478f-f6bd-6ed3011823e7"
      },
      "execution_count": 2,
      "outputs": [
        {
          "output_type": "stream",
          "name": "stdout",
          "text": [
            "time: 3.4 ms (started: 2022-06-26 10:23:15 +00:00)\n"
          ]
        }
      ]
    },
    {
      "cell_type": "code",
      "source": [
        "%%cython\n",
        "\n",
        "def cy_fib(n: int):\n",
        "  if n < 2:\n",
        "    return n\n",
        "  cdef long f1 = 0\n",
        "  cdef long f2 = 1\n",
        "  cdef long ans\n",
        "  for i in range(n-1):\n",
        "    ans = f1 + f2\n",
        "    f1 = f2\n",
        "    f2 = ans\n",
        "  return ans"
      ],
      "metadata": {
        "colab": {
          "base_uri": "https://localhost:8080/"
        },
        "id": "OhjLR-T0euEx",
        "outputId": "4d460f30-00bc-4cc0-d166-287c8caacc97"
      },
      "execution_count": 3,
      "outputs": [
        {
          "output_type": "stream",
          "name": "stdout",
          "text": [
            "time: 3.19 ms (started: 2022-06-26 10:23:16 +00:00)\n"
          ]
        }
      ]
    },
    {
      "cell_type": "code",
      "source": [
        "py_fib(33)"
      ],
      "metadata": {
        "colab": {
          "base_uri": "https://localhost:8080/"
        },
        "id": "SVq-TjUFfDRK",
        "outputId": "9559494a-87f8-4c2b-9689-b8e28cedd35c"
      },
      "execution_count": 42,
      "outputs": [
        {
          "output_type": "execute_result",
          "data": {
            "text/plain": [
              "3524578"
            ]
          },
          "metadata": {},
          "execution_count": 42
        },
        {
          "output_type": "stream",
          "name": "stdout",
          "text": [
            "time: 7.6 ms (started: 2022-06-26 10:41:08 +00:00)\n"
          ]
        }
      ]
    },
    {
      "cell_type": "code",
      "source": [
        "cy_fib(33)"
      ],
      "metadata": {
        "colab": {
          "base_uri": "https://localhost:8080/"
        },
        "id": "6DwrM_WFfN5K",
        "outputId": "d5bad233-d655-4d95-96ef-08c8f0de3d13"
      },
      "execution_count": 43,
      "outputs": [
        {
          "output_type": "execute_result",
          "data": {
            "text/plain": [
              "3524578"
            ]
          },
          "metadata": {},
          "execution_count": 43
        },
        {
          "output_type": "stream",
          "name": "stdout",
          "text": [
            "time: 3.31 ms (started: 2022-06-26 10:41:10 +00:00)\n"
          ]
        }
      ]
    },
    {
      "cell_type": "markdown",
      "source": [
        "Как можно увидеть даже на небольших данных python оказывается медленнее чем cython, но т.к. ограничения си не позволяют хранить большие числа нельзя проверить скорость на бОльших данных в данном примере"
      ],
      "metadata": {
        "id": "Jw1QKKcUgba7"
      }
    },
    {
      "cell_type": "markdown",
      "source": [
        "**Сортировка**"
      ],
      "metadata": {
        "id": "SRQwGH4Eg5l6"
      }
    },
    {
      "cell_type": "code",
      "source": [
        "def py_bubble(array: list):\n",
        "  n = len(array)\n",
        "  for i in range(n - 1):\n",
        "    for j in range(n - i - 1):\n",
        "        if array[j] > array[j + 1]:\n",
        "            array[j], array[j + 1] = array[j + 1], array[j]"
      ],
      "metadata": {
        "colab": {
          "base_uri": "https://localhost:8080/"
        },
        "id": "9uLIqup0hG96",
        "outputId": "0fe1e5e8-0558-43d7-faba-e7c9888ce9db"
      },
      "execution_count": 44,
      "outputs": [
        {
          "output_type": "stream",
          "name": "stdout",
          "text": [
            "time: 2.09 ms (started: 2022-06-26 10:43:19 +00:00)\n"
          ]
        }
      ]
    },
    {
      "cell_type": "code",
      "source": [
        "%%cython\n",
        "import copy\n",
        "\n",
        "def cy_bubble(array: list):\n",
        "  a = copy.deepcopy(array)\n",
        "  cdef int n = len(a)\n",
        "  for i in range(n - 1):\n",
        "    for j in range(n - 1 - i):\n",
        "        if a[j] > a[j + 1]:\n",
        "            a[j], a[j + 1] = a[j + 1], a[j]"
      ],
      "metadata": {
        "colab": {
          "base_uri": "https://localhost:8080/"
        },
        "id": "wu1h_sE5hN1i",
        "outputId": "a630a1df-363c-47a4-a236-9acedf6aaab9"
      },
      "execution_count": 45,
      "outputs": [
        {
          "output_type": "stream",
          "name": "stdout",
          "text": [
            "time: 452 ms (started: 2022-06-26 10:43:21 +00:00)\n"
          ]
        }
      ]
    },
    {
      "cell_type": "markdown",
      "source": [
        "Функция генерации данных"
      ],
      "metadata": {
        "id": "uw8mEP_Xhahj"
      }
    },
    {
      "cell_type": "code",
      "source": [
        "def generate(length: int) -> list:\n",
        "  return [random() for _ in range(length)]"
      ],
      "metadata": {
        "colab": {
          "base_uri": "https://localhost:8080/"
        },
        "id": "L0O7tdKthNpi",
        "outputId": "d32ef451-2738-49f9-ca40-b003f78e5fd2"
      },
      "execution_count": 46,
      "outputs": [
        {
          "output_type": "stream",
          "name": "stdout",
          "text": [
            "time: 1.29 ms (started: 2022-06-26 10:43:29 +00:00)\n"
          ]
        }
      ]
    },
    {
      "cell_type": "markdown",
      "source": [
        "Сравнение"
      ],
      "metadata": {
        "id": "LhvKAUCIhjaZ"
      }
    },
    {
      "cell_type": "code",
      "source": [
        "py_bubble(generate(1000))"
      ],
      "metadata": {
        "colab": {
          "base_uri": "https://localhost:8080/"
        },
        "id": "s-StC2b-hi20",
        "outputId": "46e58358-10d6-42dc-b4c8-07d45d77d561"
      },
      "execution_count": 47,
      "outputs": [
        {
          "output_type": "stream",
          "name": "stdout",
          "text": [
            "time: 110 ms (started: 2022-06-26 10:43:32 +00:00)\n"
          ]
        }
      ]
    },
    {
      "cell_type": "code",
      "source": [
        "cy_bubble(generate(1000))"
      ],
      "metadata": {
        "id": "-g6UIsqdhy2q",
        "colab": {
          "base_uri": "https://localhost:8080/"
        },
        "outputId": "0c0439e6-d5f9-457c-92c5-99d74a0dda57"
      },
      "execution_count": 48,
      "outputs": [
        {
          "output_type": "stream",
          "name": "stdout",
          "text": [
            "time: 39.5 ms (started: 2022-06-26 10:43:33 +00:00)\n"
          ]
        }
      ]
    },
    {
      "cell_type": "markdown",
      "source": [
        "Итак уже на списке из 1000 элементов cython выполняет сортировку почти в 3 раза быстрее, попробуем на еще больших данных"
      ],
      "metadata": {
        "id": "ZiOeEsnYimRb"
      }
    },
    {
      "cell_type": "code",
      "source": [
        "py_bubble(generate(10000))"
      ],
      "metadata": {
        "colab": {
          "base_uri": "https://localhost:8080/"
        },
        "id": "qbxqVUSzivXi",
        "outputId": "b17d7720-046e-46b4-8aef-3fc45889c75a"
      },
      "execution_count": 49,
      "outputs": [
        {
          "output_type": "stream",
          "name": "stdout",
          "text": [
            "time: 11.2 s (started: 2022-06-26 10:43:36 +00:00)\n"
          ]
        }
      ]
    },
    {
      "cell_type": "code",
      "source": [
        "cy_bubble(generate(10000))"
      ],
      "metadata": {
        "colab": {
          "base_uri": "https://localhost:8080/"
        },
        "id": "OX46bnydiv6S",
        "outputId": "ab86ca3a-9479-4e1a-e64a-16b8234cf242"
      },
      "execution_count": 50,
      "outputs": [
        {
          "output_type": "stream",
          "name": "stdout",
          "text": [
            "time: 3.68 s (started: 2022-06-26 10:43:48 +00:00)\n"
          ]
        }
      ]
    },
    {
      "cell_type": "markdown",
      "source": [
        "Еще раз убеждаемся в этом, но уже на больших данных"
      ],
      "metadata": {
        "id": "v8Jlqyz3i5YD"
      }
    },
    {
      "cell_type": "markdown",
      "source": [
        "**Операции над матрицами**\n",
        "\n",
        "Умножение"
      ],
      "metadata": {
        "id": "jEM-IAg8dzeK"
      }
    },
    {
      "cell_type": "code",
      "source": [
        "def py_mp(matrix1: list, matrix2: list):\n",
        "  length = len(matrix1) \n",
        "  result_matrix = [[0 for i in range(length)] for i in range(length)]\n",
        "\n",
        "  for i in range(length):\n",
        "    for j in range(length):\n",
        "      for k in range(length):\n",
        "        result_matrix[i][j] += matrix1[i][k] * matrix2[k][j]"
      ],
      "metadata": {
        "colab": {
          "base_uri": "https://localhost:8080/"
        },
        "id": "KfU4jKSBjRHy",
        "outputId": "07178bba-a866-4df9-cb92-d1c7f1d18917"
      },
      "execution_count": 51,
      "outputs": [
        {
          "output_type": "stream",
          "name": "stdout",
          "text": [
            "time: 3.05 ms (started: 2022-06-26 10:44:33 +00:00)\n"
          ]
        }
      ]
    },
    {
      "cell_type": "code",
      "source": [
        "%%cython\n",
        "import copy\n",
        "\n",
        "def cy_mp(matrix1: list, matrix2: list):\n",
        "  m1, m2 = copy.deepcopy(matrix1), copy.deepcopy(matrix2)\n",
        "\n",
        "  cdef int length = len(m1) \n",
        "  result_matrix = [[0 for i in range(length)] for i in range(length)]\n",
        "\n",
        "  for i in range(length):\n",
        "    for j in range(length):\n",
        "      for k in range(length):\n",
        "        result_matrix[i][j] += m1[i][k] * m2[k][j]"
      ],
      "metadata": {
        "colab": {
          "base_uri": "https://localhost:8080/"
        },
        "id": "vbmY4cj0jRaa",
        "outputId": "9fcf7c6f-94fc-449f-b23a-9fb3c993f527"
      },
      "execution_count": 52,
      "outputs": [
        {
          "output_type": "stream",
          "name": "stdout",
          "text": [
            "time: 3.23 ms (started: 2022-06-26 10:44:39 +00:00)\n"
          ]
        }
      ]
    },
    {
      "cell_type": "markdown",
      "source": [
        "Генерация данных"
      ],
      "metadata": {
        "id": "l48pcSmzlCDC"
      }
    },
    {
      "cell_type": "code",
      "source": [
        "from numpy.matrixlib.defmatrix import matrix\n",
        "def generate(length: int) -> list:\n",
        "  return [[random() for _ in range(length)] for _ in range(length)]\n",
        "  "
      ],
      "metadata": {
        "colab": {
          "base_uri": "https://localhost:8080/"
        },
        "id": "yXUp5Ih1lByz",
        "outputId": "d63d1900-d1bc-4921-8553-588243c09184"
      },
      "execution_count": 53,
      "outputs": [
        {
          "output_type": "stream",
          "name": "stdout",
          "text": [
            "time: 1.37 ms (started: 2022-06-26 10:44:46 +00:00)\n"
          ]
        }
      ]
    },
    {
      "cell_type": "markdown",
      "source": [
        "Сравнение"
      ],
      "metadata": {
        "id": "QCq-I5b-lGcN"
      }
    },
    {
      "cell_type": "code",
      "source": [
        "py_mp(generate(100), generate(100))"
      ],
      "metadata": {
        "id": "05WLXMY6dZWR",
        "colab": {
          "base_uri": "https://localhost:8080/"
        },
        "outputId": "961528ee-c04f-4763-9280-76ae2d736ff3"
      },
      "execution_count": 54,
      "outputs": [
        {
          "output_type": "stream",
          "name": "stdout",
          "text": [
            "time: 211 ms (started: 2022-06-26 10:44:47 +00:00)\n"
          ]
        }
      ]
    },
    {
      "cell_type": "code",
      "source": [
        "cy_mp(generate(100), generate(100))"
      ],
      "metadata": {
        "colab": {
          "base_uri": "https://localhost:8080/"
        },
        "id": "qpWbNOpjlJjD",
        "outputId": "1c152d6d-df63-42fa-9268-1c039e476f95"
      },
      "execution_count": 55,
      "outputs": [
        {
          "output_type": "stream",
          "name": "stdout",
          "text": [
            "time: 57.1 ms (started: 2022-06-26 10:44:50 +00:00)\n"
          ]
        }
      ]
    },
    {
      "cell_type": "markdown",
      "source": [
        "Видно, что cython справляется значительно быстрее обычного питона. \n",
        "\n",
        "В заключение можно отметить, что результат оправдал ожидания. Cython действительно помогает оптимизировать код."
      ],
      "metadata": {
        "id": "KIG-4h28lnbi"
      }
    }
  ]
}